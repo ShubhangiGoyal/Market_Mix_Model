{
 "cells": [
  {
   "cell_type": "markdown",
   "metadata": {},
   "source": [
    "### 1. Load Libraries"
   ]
  },
  {
   "cell_type": "code",
   "execution_count": 1,
   "metadata": {},
   "outputs": [],
   "source": [
    "import numpy as np\n",
    "import pandas as pd\n",
    "import seaborn as sns\n",
    "import matplotlib.pyplot as plt\n",
    "from scipy import stats\n",
    "import statsmodels.formula.api as sm\n",
    "import sklearn\n",
    "from sklearn import metrics"
   ]
  },
  {
   "cell_type": "markdown",
   "metadata": {},
   "source": [
    "## 2. Load Dataset"
   ]
  },
  {
   "cell_type": "code",
   "execution_count": 3,
   "metadata": {},
   "outputs": [
    {
     "data": {
      "text/html": [
       "<div>\n",
       "<style scoped>\n",
       "    .dataframe tbody tr th:only-of-type {\n",
       "        vertical-align: middle;\n",
       "    }\n",
       "\n",
       "    .dataframe tbody tr th {\n",
       "        vertical-align: top;\n",
       "    }\n",
       "\n",
       "    .dataframe thead th {\n",
       "        text-align: right;\n",
       "    }\n",
       "</style>\n",
       "<table border=\"1\" class=\"dataframe\">\n",
       "  <thead>\n",
       "    <tr style=\"text-align: right;\">\n",
       "      <th></th>\n",
       "      <th>TV</th>\n",
       "      <th>radio</th>\n",
       "      <th>newspaper</th>\n",
       "      <th>sales</th>\n",
       "    </tr>\n",
       "  </thead>\n",
       "  <tbody>\n",
       "    <tr>\n",
       "      <th>1</th>\n",
       "      <td>230.1</td>\n",
       "      <td>37.8</td>\n",
       "      <td>69.2</td>\n",
       "      <td>22.1</td>\n",
       "    </tr>\n",
       "    <tr>\n",
       "      <th>2</th>\n",
       "      <td>44.5</td>\n",
       "      <td>39.3</td>\n",
       "      <td>45.1</td>\n",
       "      <td>10.4</td>\n",
       "    </tr>\n",
       "    <tr>\n",
       "      <th>3</th>\n",
       "      <td>17.2</td>\n",
       "      <td>45.9</td>\n",
       "      <td>69.3</td>\n",
       "      <td>9.3</td>\n",
       "    </tr>\n",
       "    <tr>\n",
       "      <th>4</th>\n",
       "      <td>151.5</td>\n",
       "      <td>41.3</td>\n",
       "      <td>58.5</td>\n",
       "      <td>18.5</td>\n",
       "    </tr>\n",
       "    <tr>\n",
       "      <th>5</th>\n",
       "      <td>180.8</td>\n",
       "      <td>10.8</td>\n",
       "      <td>58.4</td>\n",
       "      <td>12.9</td>\n",
       "    </tr>\n",
       "  </tbody>\n",
       "</table>\n",
       "</div>"
      ],
      "text/plain": [
       "      TV  radio  newspaper  sales\n",
       "1  230.1   37.8       69.2   22.1\n",
       "2   44.5   39.3       45.1   10.4\n",
       "3   17.2   45.9       69.3    9.3\n",
       "4  151.5   41.3       58.5   18.5\n",
       "5  180.8   10.8       58.4   12.9"
      ]
     },
     "execution_count": 3,
     "metadata": {},
     "output_type": "execute_result"
    }
   ],
   "source": [
    "data = pd.read_csv('Advertising.csv', index_col=0)\n",
    "data.head()"
   ]
  },
  {
   "cell_type": "code",
   "execution_count": 4,
   "metadata": {},
   "outputs": [
    {
     "data": {
      "text/html": [
       "<div>\n",
       "<style scoped>\n",
       "    .dataframe tbody tr th:only-of-type {\n",
       "        vertical-align: middle;\n",
       "    }\n",
       "\n",
       "    .dataframe tbody tr th {\n",
       "        vertical-align: top;\n",
       "    }\n",
       "\n",
       "    .dataframe thead th {\n",
       "        text-align: right;\n",
       "    }\n",
       "</style>\n",
       "<table border=\"1\" class=\"dataframe\">\n",
       "  <thead>\n",
       "    <tr style=\"text-align: right;\">\n",
       "      <th></th>\n",
       "      <th>TV</th>\n",
       "      <th>radio</th>\n",
       "      <th>newspaper</th>\n",
       "      <th>sales</th>\n",
       "    </tr>\n",
       "  </thead>\n",
       "  <tbody>\n",
       "    <tr>\n",
       "      <th>count</th>\n",
       "      <td>200.000000</td>\n",
       "      <td>200.000000</td>\n",
       "      <td>200.000000</td>\n",
       "      <td>200.000000</td>\n",
       "    </tr>\n",
       "    <tr>\n",
       "      <th>mean</th>\n",
       "      <td>147.042500</td>\n",
       "      <td>23.264000</td>\n",
       "      <td>30.554000</td>\n",
       "      <td>14.022500</td>\n",
       "    </tr>\n",
       "    <tr>\n",
       "      <th>std</th>\n",
       "      <td>85.854236</td>\n",
       "      <td>14.846809</td>\n",
       "      <td>21.778621</td>\n",
       "      <td>5.217457</td>\n",
       "    </tr>\n",
       "    <tr>\n",
       "      <th>min</th>\n",
       "      <td>0.700000</td>\n",
       "      <td>0.000000</td>\n",
       "      <td>0.300000</td>\n",
       "      <td>1.600000</td>\n",
       "    </tr>\n",
       "    <tr>\n",
       "      <th>25%</th>\n",
       "      <td>74.375000</td>\n",
       "      <td>9.975000</td>\n",
       "      <td>12.750000</td>\n",
       "      <td>10.375000</td>\n",
       "    </tr>\n",
       "    <tr>\n",
       "      <th>50%</th>\n",
       "      <td>149.750000</td>\n",
       "      <td>22.900000</td>\n",
       "      <td>25.750000</td>\n",
       "      <td>12.900000</td>\n",
       "    </tr>\n",
       "    <tr>\n",
       "      <th>75%</th>\n",
       "      <td>218.825000</td>\n",
       "      <td>36.525000</td>\n",
       "      <td>45.100000</td>\n",
       "      <td>17.400000</td>\n",
       "    </tr>\n",
       "    <tr>\n",
       "      <th>max</th>\n",
       "      <td>296.400000</td>\n",
       "      <td>49.600000</td>\n",
       "      <td>114.000000</td>\n",
       "      <td>27.000000</td>\n",
       "    </tr>\n",
       "  </tbody>\n",
       "</table>\n",
       "</div>"
      ],
      "text/plain": [
       "               TV       radio   newspaper       sales\n",
       "count  200.000000  200.000000  200.000000  200.000000\n",
       "mean   147.042500   23.264000   30.554000   14.022500\n",
       "std     85.854236   14.846809   21.778621    5.217457\n",
       "min      0.700000    0.000000    0.300000    1.600000\n",
       "25%     74.375000    9.975000   12.750000   10.375000\n",
       "50%    149.750000   22.900000   25.750000   12.900000\n",
       "75%    218.825000   36.525000   45.100000   17.400000\n",
       "max    296.400000   49.600000  114.000000   27.000000"
      ]
     },
     "execution_count": 4,
     "metadata": {},
     "output_type": "execute_result"
    }
   ],
   "source": [
    "data.describe()"
   ]
  },
  {
   "cell_type": "markdown",
   "metadata": {},
   "source": [
    "## 3. Train Test Split"
   ]
  },
  {
   "cell_type": "code",
   "execution_count": 6,
   "metadata": {},
   "outputs": [],
   "source": [
    "features = ['TV', 'radio', 'newspaper']                # create a Python list of feature names\n",
    "target = ['sales']                                     # Define the target variable"
   ]
  },
  {
   "cell_type": "code",
   "execution_count": 7,
   "metadata": {},
   "outputs": [],
   "source": [
    "from sklearn.model_selection import train_test_split\n",
    "X_train, X_test, y_train, y_test = train_test_split(data[features], data[target], test_size=0.05, random_state=5000)"
   ]
  },
  {
   "cell_type": "code",
   "execution_count": 9,
   "metadata": {},
   "outputs": [
    {
     "name": "stdout",
     "output_type": "stream",
     "text": [
      "Train cases as below\n",
      "X_train shape:  (190, 3)\n",
      "y_train shape:  (190, 1)\n",
      "\n",
      "Test cases as below\n",
      "X_test shape:  (10, 3)\n",
      "y_test shape:  (10, 1)\n"
     ]
    }
   ],
   "source": [
    "# checking train and test data sizes :\n",
    "print('Train cases as below')\n",
    "print('X_train shape: ',X_train.shape)\n",
    "print('y_train shape: ',y_train.shape)\n",
    "print('\\nTest cases as below')\n",
    "print('X_test shape: ',X_test.shape)\n",
    "print('y_test shape: ',y_test.shape)"
   ]
  },
  {
   "cell_type": "markdown",
   "metadata": {},
   "source": [
    "## 4. Linear regression in scikit-learn"
   ]
  },
  {
   "cell_type": "code",
   "execution_count": 10,
   "metadata": {},
   "outputs": [],
   "source": [
    "#Instantiating the model\n",
    "from sklearn.linear_model import LinearRegression\n",
    "lr_model = LinearRegression(fit_intercept=True)"
   ]
  },
  {
   "cell_type": "code",
   "execution_count": 11,
   "metadata": {},
   "outputs": [
    {
     "data": {
      "text/plain": [
       "LinearRegression(copy_X=True, fit_intercept=True, n_jobs=None, normalize=False)"
      ]
     },
     "execution_count": 11,
     "metadata": {},
     "output_type": "execute_result"
    }
   ],
   "source": [
    "#Fit the model\n",
    "lr_model.fit(X_train, y_train)"
   ]
  },
  {
   "cell_type": "code",
   "execution_count": 12,
   "metadata": {},
   "outputs": [
    {
     "name": "stdout",
     "output_type": "stream",
     "text": [
      "Intercept: [2.98804537]\n",
      "Coefficients: [[ 0.04574295  0.18812717 -0.00031962]]\n"
     ]
    }
   ],
   "source": [
    "#Interpreting Model Coefficients\n",
    "print('Intercept:',lr_model.intercept_)          # print the intercept \n",
    "print('Coefficients:',lr_model.coef_)  "
   ]
  },
  {
   "cell_type": "code",
   "execution_count": 13,
   "metadata": {},
   "outputs": [
    {
     "data": {
      "text/plain": [
       "array([[ 0.04574295],\n",
       "       [ 0.18812717],\n",
       "       [-0.00031962]])"
      ]
     },
     "execution_count": 13,
     "metadata": {},
     "output_type": "execute_result"
    }
   ],
   "source": [
    "X_train.columns\n",
    "(lr_model.coef_).T"
   ]
  },
  {
   "cell_type": "code",
   "execution_count": 14,
   "metadata": {},
   "outputs": [
    {
     "data": {
      "text/html": [
       "<div>\n",
       "<style scoped>\n",
       "    .dataframe tbody tr th:only-of-type {\n",
       "        vertical-align: middle;\n",
       "    }\n",
       "\n",
       "    .dataframe tbody tr th {\n",
       "        vertical-align: top;\n",
       "    }\n",
       "\n",
       "    .dataframe thead th {\n",
       "        text-align: right;\n",
       "    }\n",
       "</style>\n",
       "<table border=\"1\" class=\"dataframe\">\n",
       "  <thead>\n",
       "    <tr style=\"text-align: right;\">\n",
       "      <th></th>\n",
       "      <th>Co-efficients</th>\n",
       "    </tr>\n",
       "  </thead>\n",
       "  <tbody>\n",
       "    <tr>\n",
       "      <th>radio</th>\n",
       "      <td>0.188127</td>\n",
       "    </tr>\n",
       "    <tr>\n",
       "      <th>TV</th>\n",
       "      <td>0.045743</td>\n",
       "    </tr>\n",
       "    <tr>\n",
       "      <th>newspaper</th>\n",
       "      <td>-0.000320</td>\n",
       "    </tr>\n",
       "  </tbody>\n",
       "</table>\n",
       "</div>"
      ],
      "text/plain": [
       "           Co-efficients\n",
       "radio           0.188127\n",
       "TV              0.045743\n",
       "newspaper      -0.000320"
      ]
     },
     "execution_count": 14,
     "metadata": {},
     "output_type": "execute_result"
    }
   ],
   "source": [
    "pd.DataFrame((lr_model.coef_).T,index=X_train.columns,\\\n",
    "             columns=['Co-efficients']).sort_values('Co-efficients',ascending=False)"
   ]
  },
  {
   "cell_type": "markdown",
   "metadata": {},
   "source": [
    "## 5. Using the Model for Prediction"
   ]
  },
  {
   "cell_type": "code",
   "execution_count": 16,
   "metadata": {},
   "outputs": [
    {
     "data": {
      "text/plain": [
       "array([[17.02755225],\n",
       "       [13.85715676],\n",
       "       [17.98486857],\n",
       "       [17.38773256],\n",
       "       [13.95430738],\n",
       "       [18.00624166],\n",
       "       [15.00293682],\n",
       "       [20.925685  ],\n",
       "       [12.60984156],\n",
       "       [ 8.94223668],\n",
       "       [18.68431423],\n",
       "       [20.88297629],\n",
       "       [ 9.18845319],\n",
       "       [22.95622551],\n",
       "       [12.02277   ],\n",
       "       [17.122956  ],\n",
       "       [ 4.56793713],\n",
       "       [ 9.96950398],\n",
       "       [10.65892863],\n",
       "       [21.30848509],\n",
       "       [14.81321194],\n",
       "       [16.60213615],\n",
       "       [ 9.53961681],\n",
       "       [17.669057  ],\n",
       "       [14.47856617],\n",
       "       [15.03281197],\n",
       "       [ 7.62665857],\n",
       "       [ 6.62163142],\n",
       "       [13.27147858],\n",
       "       [20.49960471],\n",
       "       [23.31680333],\n",
       "       [21.15520632],\n",
       "       [11.8009309 ],\n",
       "       [10.64681483],\n",
       "       [15.68391965],\n",
       "       [17.35562597],\n",
       "       [ 9.87985222],\n",
       "       [23.34302283],\n",
       "       [ 6.65368948],\n",
       "       [14.42946875],\n",
       "       [15.4506998 ],\n",
       "       [ 7.09505724],\n",
       "       [ 9.97134351],\n",
       "       [ 8.20238456],\n",
       "       [23.84092868],\n",
       "       [19.22968853],\n",
       "       [15.35846904],\n",
       "       [17.00272496],\n",
       "       [11.95368497],\n",
       "       [10.00421559],\n",
       "       [ 8.85705541],\n",
       "       [ 6.56722137],\n",
       "       [ 9.76034634],\n",
       "       [18.89982051],\n",
       "       [17.10533226],\n",
       "       [10.08764523],\n",
       "       [19.01740323],\n",
       "       [21.18553391],\n",
       "       [13.99000919],\n",
       "       [19.72965792],\n",
       "       [ 5.80470774],\n",
       "       [18.43123334],\n",
       "       [ 9.05617363],\n",
       "       [20.01342198],\n",
       "       [11.49305225],\n",
       "       [14.47714404],\n",
       "       [ 6.62857816],\n",
       "       [12.2296369 ],\n",
       "       [18.17236084],\n",
       "       [21.76314391],\n",
       "       [13.68098537],\n",
       "       [20.33508419],\n",
       "       [17.37333242],\n",
       "       [21.62872293],\n",
       "       [ 9.75575215],\n",
       "       [14.27399387],\n",
       "       [ 5.42708589],\n",
       "       [24.18119309],\n",
       "       [22.28242605],\n",
       "       [20.60258786],\n",
       "       [18.51816015],\n",
       "       [20.7190661 ],\n",
       "       [12.16993303],\n",
       "       [17.26246818],\n",
       "       [11.78132531],\n",
       "       [ 9.38550781],\n",
       "       [11.91670227],\n",
       "       [21.94971753],\n",
       "       [16.38578008],\n",
       "       [20.41769907],\n",
       "       [12.82497127],\n",
       "       [12.03750041],\n",
       "       [20.83283065],\n",
       "       [12.8320847 ],\n",
       "       [ 9.82093389],\n",
       "       [21.69634702],\n",
       "       [10.16036624],\n",
       "       [19.70415645],\n",
       "       [23.4352109 ],\n",
       "       [17.32283047],\n",
       "       [13.9214731 ],\n",
       "       [20.02554661],\n",
       "       [14.7993593 ],\n",
       "       [16.9866719 ],\n",
       "       [19.30807456],\n",
       "       [20.84362121],\n",
       "       [19.53884455],\n",
       "       [23.29211299],\n",
       "       [19.3301914 ],\n",
       "       [10.8735222 ],\n",
       "       [10.45068392],\n",
       "       [ 3.77618219],\n",
       "       [18.5951264 ],\n",
       "       [18.28041197],\n",
       "       [14.2161167 ],\n",
       "       [ 8.87544828],\n",
       "       [ 6.1122983 ],\n",
       "       [ 8.4886741 ],\n",
       "       [18.48399371],\n",
       "       [ 6.87836593],\n",
       "       [14.71673234],\n",
       "       [ 7.6605299 ],\n",
       "       [16.07023723],\n",
       "       [24.2102378 ],\n",
       "       [17.69846463],\n",
       "       [12.30399916],\n",
       "       [ 8.83408801],\n",
       "       [ 3.65434668],\n",
       "       [ 8.47149388],\n",
       "       [12.56145657],\n",
       "       [14.03669031],\n",
       "       [10.24108359],\n",
       "       [15.34147539],\n",
       "       [10.63786918],\n",
       "       [ 8.21626552],\n",
       "       [11.64661588],\n",
       "       [15.65451325],\n",
       "       [14.02409211],\n",
       "       [17.05412562],\n",
       "       [ 9.73542366],\n",
       "       [ 8.59511035],\n",
       "       [12.9384356 ],\n",
       "       [10.05017428],\n",
       "       [10.53113482],\n",
       "       [11.11286265],\n",
       "       [16.43612885],\n",
       "       [10.69070801],\n",
       "       [13.62741191],\n",
       "       [21.36062353],\n",
       "       [12.46287315],\n",
       "       [13.25172592],\n",
       "       [17.83978908],\n",
       "       [ 7.45158714],\n",
       "       [14.84138795],\n",
       "       [12.69962228],\n",
       "       [24.84032708],\n",
       "       [ 8.23757475],\n",
       "       [ 7.17223109],\n",
       "       [10.41598457],\n",
       "       [12.43872438],\n",
       "       [15.26612448],\n",
       "       [16.4056769 ],\n",
       "       [11.49867485],\n",
       "       [16.84157898],\n",
       "       [ 7.70686236],\n",
       "       [13.41974818],\n",
       "       [15.22042941],\n",
       "       [ 7.89360399],\n",
       "       [16.33730408],\n",
       "       [ 8.95722237],\n",
       "       [ 9.21449205],\n",
       "       [ 4.5403639 ],\n",
       "       [12.52506499],\n",
       "       [14.32729601],\n",
       "       [ 4.53604562],\n",
       "       [ 6.19152541],\n",
       "       [13.79672287],\n",
       "       [12.08462225],\n",
       "       [12.9909482 ],\n",
       "       [15.54501841],\n",
       "       [18.17286416],\n",
       "       [12.68341167],\n",
       "       [15.65090099],\n",
       "       [18.49886313],\n",
       "       [10.46712087],\n",
       "       [10.07713792],\n",
       "       [ 7.95807578],\n",
       "       [15.38955592],\n",
       "       [16.5311747 ],\n",
       "       [ 5.35604487]])"
      ]
     },
     "execution_count": 16,
     "metadata": {},
     "output_type": "execute_result"
    }
   ],
   "source": [
    "y_pred_train = lr_model.predict(X_train) \n",
    "y_pred_train                            # make predictions on the training set"
   ]
  },
  {
   "cell_type": "code",
   "execution_count": 18,
   "metadata": {},
   "outputs": [
    {
     "data": {
      "text/plain": [
       "array([[15.22009711],\n",
       "       [19.45981854],\n",
       "       [15.12423951],\n",
       "       [12.40258987],\n",
       "       [ 7.91426381],\n",
       "       [11.41350004],\n",
       "       [15.66607952],\n",
       "       [12.38771194],\n",
       "       [15.66955342],\n",
       "       [16.44776759]])"
      ]
     },
     "execution_count": 18,
     "metadata": {},
     "output_type": "execute_result"
    }
   ],
   "source": [
    "y_pred_test = lr_model.predict(X_test)           # make predictions on the testing set\n",
    "y_pred_test"
   ]
  },
  {
   "cell_type": "markdown",
   "metadata": {},
   "source": [
    "## 6.  Model evaluation"
   ]
  },
  {
   "cell_type": "code",
   "execution_count": 20,
   "metadata": {},
   "outputs": [
    {
     "name": "stdout",
     "output_type": "stream",
     "text": [
      "MAE for training set is 1.2370315486253916\n",
      "MAE for test set is 1.3491035416575239\n"
     ]
    }
   ],
   "source": [
    "#Computing the MAE for our Sales predictions\n",
    "\n",
    "MAE_train = metrics.mean_absolute_error(y_train, y_pred_train)\n",
    "MAE_test = metrics.mean_absolute_error(y_test, y_pred_test)\n",
    "\n",
    "print('MAE for training set is {}'.format(MAE_train))\n",
    "print('MAE for test set is {}'.format(MAE_test))"
   ]
  },
  {
   "cell_type": "code",
   "execution_count": 21,
   "metadata": {},
   "outputs": [
    {
     "name": "stdout",
     "output_type": "stream",
     "text": [
      "MSE for training set is 2.7655529731609403\n",
      "MSE for test set is 3.209816499356171\n"
     ]
    }
   ],
   "source": [
    "#Computing the MSE for our Sales predictions\n",
    "\n",
    "MSE_train = metrics.mean_squared_error(y_train, y_pred_train)\n",
    "MSE_test = metrics.mean_squared_error(y_test, y_pred_test)\n",
    "\n",
    "print('MSE for training set is {}'.format(MSE_train))\n",
    "print('MSE for test set is {}'.format(MSE_test))"
   ]
  },
  {
   "cell_type": "code",
   "execution_count": 22,
   "metadata": {},
   "outputs": [
    {
     "name": "stdout",
     "output_type": "stream",
     "text": [
      "RMSE for training set is 1.6629951813402648\n",
      "RMSE for test set is 1.7915960759490883\n"
     ]
    }
   ],
   "source": [
    "#Computing the RMSE for our Sales predictions\n",
    "\n",
    "RMSE_train = np.sqrt( metrics.mean_squared_error(y_train, y_pred_train))\n",
    "RMSE_test = np.sqrt(metrics.mean_squared_error(y_test, y_pred_test))\n",
    "\n",
    "print('RMSE for training set is {}'.format(RMSE_train))\n",
    "print('RMSE for test set is {}'.format(RMSE_test))"
   ]
  },
  {
   "cell_type": "code",
   "execution_count": 23,
   "metadata": {},
   "outputs": [
    {
     "data": {
      "text/plain": [
       "0.1277658103725504"
      ]
     },
     "execution_count": 23,
     "metadata": {},
     "output_type": "execute_result"
    }
   ],
   "source": [
    "data['sales'].mean()\n",
    "\n",
    "RMSE_test/data['sales'].mean()"
   ]
  }
 ],
 "metadata": {
  "kernelspec": {
   "display_name": "Python 3",
   "language": "python",
   "name": "python3"
  },
  "language_info": {
   "codemirror_mode": {
    "name": "ipython",
    "version": 3
   },
   "file_extension": ".py",
   "mimetype": "text/x-python",
   "name": "python",
   "nbconvert_exporter": "python",
   "pygments_lexer": "ipython3",
   "version": "3.7.6"
  }
 },
 "nbformat": 4,
 "nbformat_minor": 4
}
